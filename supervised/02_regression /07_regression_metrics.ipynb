{
  "nbformat": 4,
  "nbformat_minor": 0,
  "metadata": {
    "colab": {
      "provenance": [],
      "authorship_tag": "ABX9TyPA0UsRzyRdpUThKA+UP0/q",
      "include_colab_link": true
    },
    "kernelspec": {
      "name": "python3",
      "display_name": "Python 3"
    },
    "language_info": {
      "name": "python"
    }
  },
  "cells": [
    {
      "cell_type": "markdown",
      "metadata": {
        "id": "view-in-github",
        "colab_type": "text"
      },
      "source": [
        "<a href=\"https://colab.research.google.com/github/intencjusz/machine-learning/blob/main/supervised/02_regression%20/07_regression_metrics.ipynb\" target=\"_parent\"><img src=\"https://colab.research.google.com/assets/colab-badge.svg\" alt=\"Open In Colab\"/></a>"
      ]
    },
    {
      "cell_type": "code",
      "execution_count": 1,
      "metadata": {
        "id": "GK_ixwc0EMEB"
      },
      "outputs": [],
      "source": [
        "import numpy as np\n",
        "import pandas as pd\n",
        "import plotly.express as px\n",
        "import plotly.graph_objects as go\n",
        "\n",
        "np.random.seed(42)"
      ]
    },
    {
      "cell_type": "code",
      "source": [
        "\n",
        "y_true = 100 + 20 * np.random.randn(50)\n",
        "y_true"
      ],
      "metadata": {
        "colab": {
          "base_uri": "https://localhost:8080/"
        },
        "id": "CkDSmMNAEPRH",
        "outputId": "efdf2ee8-dc99-43d5-bd10-2362e637f833"
      },
      "execution_count": 2,
      "outputs": [
        {
          "output_type": "execute_result",
          "data": {
            "text/plain": [
              "array([109.93428306,  97.23471398, 112.95377076, 130.46059713,\n",
              "        95.31693251,  95.31726086, 131.58425631, 115.34869458,\n",
              "        90.61051228, 110.85120087,  90.73164614,  90.68540493,\n",
              "       104.83924543,  61.73439511,  65.50164335,  88.75424942,\n",
              "        79.74337759, 106.28494665,  81.83951849,  71.75392597,\n",
              "       129.31297538,  95.48447399, 101.35056409,  71.50503628,\n",
              "        89.11234551, 102.21845179,  76.98012845, 107.51396037,\n",
              "        87.9872262 ,  94.166125  ,  87.96586776, 137.04556369,\n",
              "        99.73005551,  78.84578142, 116.45089824,  75.583127  ,\n",
              "       104.1772719 ,  60.80659752,  73.43627902, 103.93722472,\n",
              "       114.7693316 , 103.42736562,  97.68703435,  93.97792609,\n",
              "        70.42956019,  85.60311583,  90.78722458, 121.14244452,\n",
              "       106.87236579,  64.73919689])"
            ]
          },
          "metadata": {},
          "execution_count": 2
        }
      ]
    },
    {
      "cell_type": "code",
      "source": [
        "y_pred = y_true + 10 * np.random.randn(50)\n",
        "y_pred"
      ],
      "metadata": {
        "colab": {
          "base_uri": "https://localhost:8080/"
        },
        "id": "TtKC3Y8QEnf1",
        "outputId": "28341142-7349-464c-da70-a08c063656bc"
      },
      "execution_count": 3,
      "outputs": [
        {
          "output_type": "execute_result",
          "data": {
            "text/plain": [
              "array([113.17512275,  93.38389117, 106.18455076, 136.57736002,\n",
              "       105.62692773, 104.63006205, 123.19208108, 112.25657082,\n",
              "        93.9231466 , 120.60665214,  85.93990377,  88.82881516,\n",
              "        93.77589569,  49.77232887,  73.62690157, 102.3166497 ,\n",
              "        79.02327638, 116.32027563,  85.45587874,  65.30272843,\n",
              "       132.92693143, 110.86483965, 100.9923037 ,  87.15147283,\n",
              "        62.91489447, 110.43747684,  77.85059913, 104.52388686,\n",
              "        88.90483397,  74.29043586,  85.76914888, 140.61668941,\n",
              "       114.50899595,  73.66307924, 108.36596221,  70.56555656,\n",
              "       113.33129308,  64.09410862,  68.13867698, 109.06989905,\n",
              "       115.74010709, 113.11381553,  90.66650341,  90.70130462,\n",
              "        66.50847866,  70.96796635,  93.74842735, 123.75299725,\n",
              "       106.92350036,  62.39332556])"
            ]
          },
          "metadata": {},
          "execution_count": 3
        }
      ]
    },
    {
      "cell_type": "code",
      "source": [
        "\n",
        "results = pd.DataFrame({'y_true': y_true, 'y_pred': y_pred})\n",
        "results.head()"
      ],
      "metadata": {
        "colab": {
          "base_uri": "https://localhost:8080/",
          "height": 206
        },
        "id": "0tKiu_YgEqaN",
        "outputId": "56d59bf8-3952-49ac-f05e-abd302df9d92"
      },
      "execution_count": 4,
      "outputs": [
        {
          "output_type": "execute_result",
          "data": {
            "text/plain": [
              "       y_true      y_pred\n",
              "0  109.934283  113.175123\n",
              "1   97.234714   93.383891\n",
              "2  112.953771  106.184551\n",
              "3  130.460597  136.577360\n",
              "4   95.316933  105.626928"
            ],
            "text/html": [
              "\n",
              "  <div id=\"df-c3d5a7ec-a1b9-4e1c-bd7c-952ebb09bed3\" class=\"colab-df-container\">\n",
              "    <div>\n",
              "<style scoped>\n",
              "    .dataframe tbody tr th:only-of-type {\n",
              "        vertical-align: middle;\n",
              "    }\n",
              "\n",
              "    .dataframe tbody tr th {\n",
              "        vertical-align: top;\n",
              "    }\n",
              "\n",
              "    .dataframe thead th {\n",
              "        text-align: right;\n",
              "    }\n",
              "</style>\n",
              "<table border=\"1\" class=\"dataframe\">\n",
              "  <thead>\n",
              "    <tr style=\"text-align: right;\">\n",
              "      <th></th>\n",
              "      <th>y_true</th>\n",
              "      <th>y_pred</th>\n",
              "    </tr>\n",
              "  </thead>\n",
              "  <tbody>\n",
              "    <tr>\n",
              "      <th>0</th>\n",
              "      <td>109.934283</td>\n",
              "      <td>113.175123</td>\n",
              "    </tr>\n",
              "    <tr>\n",
              "      <th>1</th>\n",
              "      <td>97.234714</td>\n",
              "      <td>93.383891</td>\n",
              "    </tr>\n",
              "    <tr>\n",
              "      <th>2</th>\n",
              "      <td>112.953771</td>\n",
              "      <td>106.184551</td>\n",
              "    </tr>\n",
              "    <tr>\n",
              "      <th>3</th>\n",
              "      <td>130.460597</td>\n",
              "      <td>136.577360</td>\n",
              "    </tr>\n",
              "    <tr>\n",
              "      <th>4</th>\n",
              "      <td>95.316933</td>\n",
              "      <td>105.626928</td>\n",
              "    </tr>\n",
              "  </tbody>\n",
              "</table>\n",
              "</div>\n",
              "    <div class=\"colab-df-buttons\">\n",
              "\n",
              "  <div class=\"colab-df-container\">\n",
              "    <button class=\"colab-df-convert\" onclick=\"convertToInteractive('df-c3d5a7ec-a1b9-4e1c-bd7c-952ebb09bed3')\"\n",
              "            title=\"Convert this dataframe to an interactive table.\"\n",
              "            style=\"display:none;\">\n",
              "\n",
              "  <svg xmlns=\"http://www.w3.org/2000/svg\" height=\"24px\" viewBox=\"0 -960 960 960\">\n",
              "    <path d=\"M120-120v-720h720v720H120Zm60-500h600v-160H180v160Zm220 220h160v-160H400v160Zm0 220h160v-160H400v160ZM180-400h160v-160H180v160Zm440 0h160v-160H620v160ZM180-180h160v-160H180v160Zm440 0h160v-160H620v160Z\"/>\n",
              "  </svg>\n",
              "    </button>\n",
              "\n",
              "  <style>\n",
              "    .colab-df-container {\n",
              "      display:flex;\n",
              "      gap: 12px;\n",
              "    }\n",
              "\n",
              "    .colab-df-convert {\n",
              "      background-color: #E8F0FE;\n",
              "      border: none;\n",
              "      border-radius: 50%;\n",
              "      cursor: pointer;\n",
              "      display: none;\n",
              "      fill: #1967D2;\n",
              "      height: 32px;\n",
              "      padding: 0 0 0 0;\n",
              "      width: 32px;\n",
              "    }\n",
              "\n",
              "    .colab-df-convert:hover {\n",
              "      background-color: #E2EBFA;\n",
              "      box-shadow: 0px 1px 2px rgba(60, 64, 67, 0.3), 0px 1px 3px 1px rgba(60, 64, 67, 0.15);\n",
              "      fill: #174EA6;\n",
              "    }\n",
              "\n",
              "    .colab-df-buttons div {\n",
              "      margin-bottom: 4px;\n",
              "    }\n",
              "\n",
              "    [theme=dark] .colab-df-convert {\n",
              "      background-color: #3B4455;\n",
              "      fill: #D2E3FC;\n",
              "    }\n",
              "\n",
              "    [theme=dark] .colab-df-convert:hover {\n",
              "      background-color: #434B5C;\n",
              "      box-shadow: 0px 1px 3px 1px rgba(0, 0, 0, 0.15);\n",
              "      filter: drop-shadow(0px 1px 2px rgba(0, 0, 0, 0.3));\n",
              "      fill: #FFFFFF;\n",
              "    }\n",
              "  </style>\n",
              "\n",
              "    <script>\n",
              "      const buttonEl =\n",
              "        document.querySelector('#df-c3d5a7ec-a1b9-4e1c-bd7c-952ebb09bed3 button.colab-df-convert');\n",
              "      buttonEl.style.display =\n",
              "        google.colab.kernel.accessAllowed ? 'block' : 'none';\n",
              "\n",
              "      async function convertToInteractive(key) {\n",
              "        const element = document.querySelector('#df-c3d5a7ec-a1b9-4e1c-bd7c-952ebb09bed3');\n",
              "        const dataTable =\n",
              "          await google.colab.kernel.invokeFunction('convertToInteractive',\n",
              "                                                    [key], {});\n",
              "        if (!dataTable) return;\n",
              "\n",
              "        const docLinkHtml = 'Like what you see? Visit the ' +\n",
              "          '<a target=\"_blank\" href=https://colab.research.google.com/notebooks/data_table.ipynb>data table notebook</a>'\n",
              "          + ' to learn more about interactive tables.';\n",
              "        element.innerHTML = '';\n",
              "        dataTable['output_type'] = 'display_data';\n",
              "        await google.colab.output.renderOutput(dataTable, element);\n",
              "        const docLink = document.createElement('div');\n",
              "        docLink.innerHTML = docLinkHtml;\n",
              "        element.appendChild(docLink);\n",
              "      }\n",
              "    </script>\n",
              "  </div>\n",
              "\n",
              "\n",
              "<div id=\"df-42dc1379-e9ba-4fa0-ae5b-97f847e1cd9d\">\n",
              "  <button class=\"colab-df-quickchart\" onclick=\"quickchart('df-42dc1379-e9ba-4fa0-ae5b-97f847e1cd9d')\"\n",
              "            title=\"Suggest charts\"\n",
              "            style=\"display:none;\">\n",
              "\n",
              "<svg xmlns=\"http://www.w3.org/2000/svg\" height=\"24px\"viewBox=\"0 0 24 24\"\n",
              "     width=\"24px\">\n",
              "    <g>\n",
              "        <path d=\"M19 3H5c-1.1 0-2 .9-2 2v14c0 1.1.9 2 2 2h14c1.1 0 2-.9 2-2V5c0-1.1-.9-2-2-2zM9 17H7v-7h2v7zm4 0h-2V7h2v10zm4 0h-2v-4h2v4z\"/>\n",
              "    </g>\n",
              "</svg>\n",
              "  </button>\n",
              "\n",
              "<style>\n",
              "  .colab-df-quickchart {\n",
              "      --bg-color: #E8F0FE;\n",
              "      --fill-color: #1967D2;\n",
              "      --hover-bg-color: #E2EBFA;\n",
              "      --hover-fill-color: #174EA6;\n",
              "      --disabled-fill-color: #AAA;\n",
              "      --disabled-bg-color: #DDD;\n",
              "  }\n",
              "\n",
              "  [theme=dark] .colab-df-quickchart {\n",
              "      --bg-color: #3B4455;\n",
              "      --fill-color: #D2E3FC;\n",
              "      --hover-bg-color: #434B5C;\n",
              "      --hover-fill-color: #FFFFFF;\n",
              "      --disabled-bg-color: #3B4455;\n",
              "      --disabled-fill-color: #666;\n",
              "  }\n",
              "\n",
              "  .colab-df-quickchart {\n",
              "    background-color: var(--bg-color);\n",
              "    border: none;\n",
              "    border-radius: 50%;\n",
              "    cursor: pointer;\n",
              "    display: none;\n",
              "    fill: var(--fill-color);\n",
              "    height: 32px;\n",
              "    padding: 0;\n",
              "    width: 32px;\n",
              "  }\n",
              "\n",
              "  .colab-df-quickchart:hover {\n",
              "    background-color: var(--hover-bg-color);\n",
              "    box-shadow: 0 1px 2px rgba(60, 64, 67, 0.3), 0 1px 3px 1px rgba(60, 64, 67, 0.15);\n",
              "    fill: var(--button-hover-fill-color);\n",
              "  }\n",
              "\n",
              "  .colab-df-quickchart-complete:disabled,\n",
              "  .colab-df-quickchart-complete:disabled:hover {\n",
              "    background-color: var(--disabled-bg-color);\n",
              "    fill: var(--disabled-fill-color);\n",
              "    box-shadow: none;\n",
              "  }\n",
              "\n",
              "  .colab-df-spinner {\n",
              "    border: 2px solid var(--fill-color);\n",
              "    border-color: transparent;\n",
              "    border-bottom-color: var(--fill-color);\n",
              "    animation:\n",
              "      spin 1s steps(1) infinite;\n",
              "  }\n",
              "\n",
              "  @keyframes spin {\n",
              "    0% {\n",
              "      border-color: transparent;\n",
              "      border-bottom-color: var(--fill-color);\n",
              "      border-left-color: var(--fill-color);\n",
              "    }\n",
              "    20% {\n",
              "      border-color: transparent;\n",
              "      border-left-color: var(--fill-color);\n",
              "      border-top-color: var(--fill-color);\n",
              "    }\n",
              "    30% {\n",
              "      border-color: transparent;\n",
              "      border-left-color: var(--fill-color);\n",
              "      border-top-color: var(--fill-color);\n",
              "      border-right-color: var(--fill-color);\n",
              "    }\n",
              "    40% {\n",
              "      border-color: transparent;\n",
              "      border-right-color: var(--fill-color);\n",
              "      border-top-color: var(--fill-color);\n",
              "    }\n",
              "    60% {\n",
              "      border-color: transparent;\n",
              "      border-right-color: var(--fill-color);\n",
              "    }\n",
              "    80% {\n",
              "      border-color: transparent;\n",
              "      border-right-color: var(--fill-color);\n",
              "      border-bottom-color: var(--fill-color);\n",
              "    }\n",
              "    90% {\n",
              "      border-color: transparent;\n",
              "      border-bottom-color: var(--fill-color);\n",
              "    }\n",
              "  }\n",
              "</style>\n",
              "\n",
              "  <script>\n",
              "    async function quickchart(key) {\n",
              "      const quickchartButtonEl =\n",
              "        document.querySelector('#' + key + ' button');\n",
              "      quickchartButtonEl.disabled = true;  // To prevent multiple clicks.\n",
              "      quickchartButtonEl.classList.add('colab-df-spinner');\n",
              "      try {\n",
              "        const charts = await google.colab.kernel.invokeFunction(\n",
              "            'suggestCharts', [key], {});\n",
              "      } catch (error) {\n",
              "        console.error('Error during call to suggestCharts:', error);\n",
              "      }\n",
              "      quickchartButtonEl.classList.remove('colab-df-spinner');\n",
              "      quickchartButtonEl.classList.add('colab-df-quickchart-complete');\n",
              "    }\n",
              "    (() => {\n",
              "      let quickchartButtonEl =\n",
              "        document.querySelector('#df-42dc1379-e9ba-4fa0-ae5b-97f847e1cd9d button');\n",
              "      quickchartButtonEl.style.display =\n",
              "        google.colab.kernel.accessAllowed ? 'block' : 'none';\n",
              "    })();\n",
              "  </script>\n",
              "</div>\n",
              "\n",
              "    </div>\n",
              "  </div>\n"
            ],
            "application/vnd.google.colaboratory.intrinsic+json": {
              "type": "dataframe",
              "variable_name": "results",
              "summary": "{\n  \"name\": \"results\",\n  \"rows\": 50,\n  \"fields\": [\n    {\n      \"column\": \"y_true\",\n      \"properties\": {\n        \"dtype\": \"number\",\n        \"std\": 18.673375637662232,\n        \"min\": 60.80659752240449,\n        \"max\": 137.04556369017877,\n        \"num_unique_values\": 50,\n        \"samples\": [\n          61.73439510684404,\n          103.93722471738246,\n          87.96586775541206\n        ],\n        \"semantic_type\": \"\",\n        \"description\": \"\"\n      }\n    },\n    {\n      \"column\": \"y_pred\",\n      \"properties\": {\n        \"dtype\": \"number\",\n        \"std\": 21.47280451902935,\n        \"min\": 49.772328866037334,\n        \"max\": 140.61668940529623,\n        \"num_unique_values\": 50,\n        \"samples\": [\n          49.772328866037334,\n          109.06989904851602,\n          85.76914887703694\n        ],\n        \"semantic_type\": \"\",\n        \"description\": \"\"\n      }\n    }\n  ]\n}"
            }
          },
          "metadata": {},
          "execution_count": 4
        }
      ]
    },
    {
      "cell_type": "code",
      "source": [
        "\n",
        "results['error'] = results['y_true'] - results['y_pred']\n",
        "results['error_squared'] = results['error'] ** 2\n",
        "results.head()"
      ],
      "metadata": {
        "colab": {
          "base_uri": "https://localhost:8080/",
          "height": 206
        },
        "id": "-xe2wYzuEt61",
        "outputId": "230c4f06-9ce7-445e-e2b8-ead058bd2168"
      },
      "execution_count": 5,
      "outputs": [
        {
          "output_type": "execute_result",
          "data": {
            "text/plain": [
              "       y_true      y_pred      error  error_squared\n",
              "0  109.934283  113.175123  -3.240840      10.503042\n",
              "1   97.234714   93.383891   3.850823      14.828836\n",
              "2  112.953771  106.184551   6.769220      45.822339\n",
              "3  130.460597  136.577360  -6.116763      37.414788\n",
              "4   95.316933  105.626928 -10.309995     106.296002"
            ],
            "text/html": [
              "\n",
              "  <div id=\"df-5191f23a-8fd1-4597-ae68-2d73fdc48fe0\" class=\"colab-df-container\">\n",
              "    <div>\n",
              "<style scoped>\n",
              "    .dataframe tbody tr th:only-of-type {\n",
              "        vertical-align: middle;\n",
              "    }\n",
              "\n",
              "    .dataframe tbody tr th {\n",
              "        vertical-align: top;\n",
              "    }\n",
              "\n",
              "    .dataframe thead th {\n",
              "        text-align: right;\n",
              "    }\n",
              "</style>\n",
              "<table border=\"1\" class=\"dataframe\">\n",
              "  <thead>\n",
              "    <tr style=\"text-align: right;\">\n",
              "      <th></th>\n",
              "      <th>y_true</th>\n",
              "      <th>y_pred</th>\n",
              "      <th>error</th>\n",
              "      <th>error_squared</th>\n",
              "    </tr>\n",
              "  </thead>\n",
              "  <tbody>\n",
              "    <tr>\n",
              "      <th>0</th>\n",
              "      <td>109.934283</td>\n",
              "      <td>113.175123</td>\n",
              "      <td>-3.240840</td>\n",
              "      <td>10.503042</td>\n",
              "    </tr>\n",
              "    <tr>\n",
              "      <th>1</th>\n",
              "      <td>97.234714</td>\n",
              "      <td>93.383891</td>\n",
              "      <td>3.850823</td>\n",
              "      <td>14.828836</td>\n",
              "    </tr>\n",
              "    <tr>\n",
              "      <th>2</th>\n",
              "      <td>112.953771</td>\n",
              "      <td>106.184551</td>\n",
              "      <td>6.769220</td>\n",
              "      <td>45.822339</td>\n",
              "    </tr>\n",
              "    <tr>\n",
              "      <th>3</th>\n",
              "      <td>130.460597</td>\n",
              "      <td>136.577360</td>\n",
              "      <td>-6.116763</td>\n",
              "      <td>37.414788</td>\n",
              "    </tr>\n",
              "    <tr>\n",
              "      <th>4</th>\n",
              "      <td>95.316933</td>\n",
              "      <td>105.626928</td>\n",
              "      <td>-10.309995</td>\n",
              "      <td>106.296002</td>\n",
              "    </tr>\n",
              "  </tbody>\n",
              "</table>\n",
              "</div>\n",
              "    <div class=\"colab-df-buttons\">\n",
              "\n",
              "  <div class=\"colab-df-container\">\n",
              "    <button class=\"colab-df-convert\" onclick=\"convertToInteractive('df-5191f23a-8fd1-4597-ae68-2d73fdc48fe0')\"\n",
              "            title=\"Convert this dataframe to an interactive table.\"\n",
              "            style=\"display:none;\">\n",
              "\n",
              "  <svg xmlns=\"http://www.w3.org/2000/svg\" height=\"24px\" viewBox=\"0 -960 960 960\">\n",
              "    <path d=\"M120-120v-720h720v720H120Zm60-500h600v-160H180v160Zm220 220h160v-160H400v160Zm0 220h160v-160H400v160ZM180-400h160v-160H180v160Zm440 0h160v-160H620v160ZM180-180h160v-160H180v160Zm440 0h160v-160H620v160Z\"/>\n",
              "  </svg>\n",
              "    </button>\n",
              "\n",
              "  <style>\n",
              "    .colab-df-container {\n",
              "      display:flex;\n",
              "      gap: 12px;\n",
              "    }\n",
              "\n",
              "    .colab-df-convert {\n",
              "      background-color: #E8F0FE;\n",
              "      border: none;\n",
              "      border-radius: 50%;\n",
              "      cursor: pointer;\n",
              "      display: none;\n",
              "      fill: #1967D2;\n",
              "      height: 32px;\n",
              "      padding: 0 0 0 0;\n",
              "      width: 32px;\n",
              "    }\n",
              "\n",
              "    .colab-df-convert:hover {\n",
              "      background-color: #E2EBFA;\n",
              "      box-shadow: 0px 1px 2px rgba(60, 64, 67, 0.3), 0px 1px 3px 1px rgba(60, 64, 67, 0.15);\n",
              "      fill: #174EA6;\n",
              "    }\n",
              "\n",
              "    .colab-df-buttons div {\n",
              "      margin-bottom: 4px;\n",
              "    }\n",
              "\n",
              "    [theme=dark] .colab-df-convert {\n",
              "      background-color: #3B4455;\n",
              "      fill: #D2E3FC;\n",
              "    }\n",
              "\n",
              "    [theme=dark] .colab-df-convert:hover {\n",
              "      background-color: #434B5C;\n",
              "      box-shadow: 0px 1px 3px 1px rgba(0, 0, 0, 0.15);\n",
              "      filter: drop-shadow(0px 1px 2px rgba(0, 0, 0, 0.3));\n",
              "      fill: #FFFFFF;\n",
              "    }\n",
              "  </style>\n",
              "\n",
              "    <script>\n",
              "      const buttonEl =\n",
              "        document.querySelector('#df-5191f23a-8fd1-4597-ae68-2d73fdc48fe0 button.colab-df-convert');\n",
              "      buttonEl.style.display =\n",
              "        google.colab.kernel.accessAllowed ? 'block' : 'none';\n",
              "\n",
              "      async function convertToInteractive(key) {\n",
              "        const element = document.querySelector('#df-5191f23a-8fd1-4597-ae68-2d73fdc48fe0');\n",
              "        const dataTable =\n",
              "          await google.colab.kernel.invokeFunction('convertToInteractive',\n",
              "                                                    [key], {});\n",
              "        if (!dataTable) return;\n",
              "\n",
              "        const docLinkHtml = 'Like what you see? Visit the ' +\n",
              "          '<a target=\"_blank\" href=https://colab.research.google.com/notebooks/data_table.ipynb>data table notebook</a>'\n",
              "          + ' to learn more about interactive tables.';\n",
              "        element.innerHTML = '';\n",
              "        dataTable['output_type'] = 'display_data';\n",
              "        await google.colab.output.renderOutput(dataTable, element);\n",
              "        const docLink = document.createElement('div');\n",
              "        docLink.innerHTML = docLinkHtml;\n",
              "        element.appendChild(docLink);\n",
              "      }\n",
              "    </script>\n",
              "  </div>\n",
              "\n",
              "\n",
              "<div id=\"df-750ed035-1983-4ae0-b7bf-6e6329ffada1\">\n",
              "  <button class=\"colab-df-quickchart\" onclick=\"quickchart('df-750ed035-1983-4ae0-b7bf-6e6329ffada1')\"\n",
              "            title=\"Suggest charts\"\n",
              "            style=\"display:none;\">\n",
              "\n",
              "<svg xmlns=\"http://www.w3.org/2000/svg\" height=\"24px\"viewBox=\"0 0 24 24\"\n",
              "     width=\"24px\">\n",
              "    <g>\n",
              "        <path d=\"M19 3H5c-1.1 0-2 .9-2 2v14c0 1.1.9 2 2 2h14c1.1 0 2-.9 2-2V5c0-1.1-.9-2-2-2zM9 17H7v-7h2v7zm4 0h-2V7h2v10zm4 0h-2v-4h2v4z\"/>\n",
              "    </g>\n",
              "</svg>\n",
              "  </button>\n",
              "\n",
              "<style>\n",
              "  .colab-df-quickchart {\n",
              "      --bg-color: #E8F0FE;\n",
              "      --fill-color: #1967D2;\n",
              "      --hover-bg-color: #E2EBFA;\n",
              "      --hover-fill-color: #174EA6;\n",
              "      --disabled-fill-color: #AAA;\n",
              "      --disabled-bg-color: #DDD;\n",
              "  }\n",
              "\n",
              "  [theme=dark] .colab-df-quickchart {\n",
              "      --bg-color: #3B4455;\n",
              "      --fill-color: #D2E3FC;\n",
              "      --hover-bg-color: #434B5C;\n",
              "      --hover-fill-color: #FFFFFF;\n",
              "      --disabled-bg-color: #3B4455;\n",
              "      --disabled-fill-color: #666;\n",
              "  }\n",
              "\n",
              "  .colab-df-quickchart {\n",
              "    background-color: var(--bg-color);\n",
              "    border: none;\n",
              "    border-radius: 50%;\n",
              "    cursor: pointer;\n",
              "    display: none;\n",
              "    fill: var(--fill-color);\n",
              "    height: 32px;\n",
              "    padding: 0;\n",
              "    width: 32px;\n",
              "  }\n",
              "\n",
              "  .colab-df-quickchart:hover {\n",
              "    background-color: var(--hover-bg-color);\n",
              "    box-shadow: 0 1px 2px rgba(60, 64, 67, 0.3), 0 1px 3px 1px rgba(60, 64, 67, 0.15);\n",
              "    fill: var(--button-hover-fill-color);\n",
              "  }\n",
              "\n",
              "  .colab-df-quickchart-complete:disabled,\n",
              "  .colab-df-quickchart-complete:disabled:hover {\n",
              "    background-color: var(--disabled-bg-color);\n",
              "    fill: var(--disabled-fill-color);\n",
              "    box-shadow: none;\n",
              "  }\n",
              "\n",
              "  .colab-df-spinner {\n",
              "    border: 2px solid var(--fill-color);\n",
              "    border-color: transparent;\n",
              "    border-bottom-color: var(--fill-color);\n",
              "    animation:\n",
              "      spin 1s steps(1) infinite;\n",
              "  }\n",
              "\n",
              "  @keyframes spin {\n",
              "    0% {\n",
              "      border-color: transparent;\n",
              "      border-bottom-color: var(--fill-color);\n",
              "      border-left-color: var(--fill-color);\n",
              "    }\n",
              "    20% {\n",
              "      border-color: transparent;\n",
              "      border-left-color: var(--fill-color);\n",
              "      border-top-color: var(--fill-color);\n",
              "    }\n",
              "    30% {\n",
              "      border-color: transparent;\n",
              "      border-left-color: var(--fill-color);\n",
              "      border-top-color: var(--fill-color);\n",
              "      border-right-color: var(--fill-color);\n",
              "    }\n",
              "    40% {\n",
              "      border-color: transparent;\n",
              "      border-right-color: var(--fill-color);\n",
              "      border-top-color: var(--fill-color);\n",
              "    }\n",
              "    60% {\n",
              "      border-color: transparent;\n",
              "      border-right-color: var(--fill-color);\n",
              "    }\n",
              "    80% {\n",
              "      border-color: transparent;\n",
              "      border-right-color: var(--fill-color);\n",
              "      border-bottom-color: var(--fill-color);\n",
              "    }\n",
              "    90% {\n",
              "      border-color: transparent;\n",
              "      border-bottom-color: var(--fill-color);\n",
              "    }\n",
              "  }\n",
              "</style>\n",
              "\n",
              "  <script>\n",
              "    async function quickchart(key) {\n",
              "      const quickchartButtonEl =\n",
              "        document.querySelector('#' + key + ' button');\n",
              "      quickchartButtonEl.disabled = true;  // To prevent multiple clicks.\n",
              "      quickchartButtonEl.classList.add('colab-df-spinner');\n",
              "      try {\n",
              "        const charts = await google.colab.kernel.invokeFunction(\n",
              "            'suggestCharts', [key], {});\n",
              "      } catch (error) {\n",
              "        console.error('Error during call to suggestCharts:', error);\n",
              "      }\n",
              "      quickchartButtonEl.classList.remove('colab-df-spinner');\n",
              "      quickchartButtonEl.classList.add('colab-df-quickchart-complete');\n",
              "    }\n",
              "    (() => {\n",
              "      let quickchartButtonEl =\n",
              "        document.querySelector('#df-750ed035-1983-4ae0-b7bf-6e6329ffada1 button');\n",
              "      quickchartButtonEl.style.display =\n",
              "        google.colab.kernel.accessAllowed ? 'block' : 'none';\n",
              "    })();\n",
              "  </script>\n",
              "</div>\n",
              "\n",
              "    </div>\n",
              "  </div>\n"
            ],
            "application/vnd.google.colaboratory.intrinsic+json": {
              "type": "dataframe",
              "variable_name": "results",
              "summary": "{\n  \"name\": \"results\",\n  \"rows\": 50,\n  \"fields\": [\n    {\n      \"column\": \"y_true\",\n      \"properties\": {\n        \"dtype\": \"number\",\n        \"std\": 18.673375637662232,\n        \"min\": 60.80659752240449,\n        \"max\": 137.04556369017877,\n        \"num_unique_values\": 50,\n        \"samples\": [\n          61.73439510684404,\n          103.93722471738246,\n          87.96586775541206\n        ],\n        \"semantic_type\": \"\",\n        \"description\": \"\"\n      }\n    },\n    {\n      \"column\": \"y_pred\",\n      \"properties\": {\n        \"dtype\": \"number\",\n        \"std\": 21.47280451902935,\n        \"min\": 49.772328866037334,\n        \"max\": 140.61668940529623,\n        \"num_unique_values\": 50,\n        \"samples\": [\n          49.772328866037334,\n          109.06989904851602,\n          85.76914887703694\n        ],\n        \"semantic_type\": \"\",\n        \"description\": \"\"\n      }\n    },\n    {\n      \"column\": \"error\",\n      \"properties\": {\n        \"dtype\": \"number\",\n        \"std\": 8.743249874778595,\n        \"min\": -15.646436558140067,\n        \"max\": 26.197451040897448,\n        \"num_unique_values\": 50,\n        \"samples\": [\n          11.962066240806706,\n          -5.132674331133558,\n          2.1967188783751226\n        ],\n        \"semantic_type\": \"\",\n        \"description\": \"\"\n      }\n    },\n    {\n      \"column\": \"error_squared\",\n      \"properties\": {\n        \"dtype\": \"number\",\n        \"std\": 120.35625893866214,\n        \"min\": 0.002614743883432637,\n        \"max\": 686.3064410402188,\n        \"num_unique_values\": 50,\n        \"samples\": [\n          143.09102874944747,\n          26.344345789477313,\n          4.825573830609657\n        ],\n        \"semantic_type\": \"\",\n        \"description\": \"\"\n      }\n    }\n  ]\n}"
            }
          },
          "metadata": {},
          "execution_count": 5
        }
      ]
    },
    {
      "cell_type": "code",
      "source": [
        "\n",
        "print(f\"MAE - mean absolute error: {results['error'].abs().sum() / len(results):.4f}\")\n",
        "\n",
        "print(f\"MSE - mean squared error: {results['error_squared'].sum() / len(results):.4f}\")\n",
        "\n",
        "print(f\"RMSE - root mean squared error: {np.sqrt(results['error_squared'].sum() / len(results)):.4f}\")"
      ],
      "metadata": {
        "colab": {
          "base_uri": "https://localhost:8080/"
        },
        "id": "3EJjL12hEwSl",
        "outputId": "cbab4261-5242-455e-971d-2192646949be"
      },
      "execution_count": 6,
      "outputs": [
        {
          "output_type": "stream",
          "name": "stdout",
          "text": [
            "MAE - mean absolute error: 6.7918\n",
            "MSE - mean squared error: 74.9471\n",
            "RMSE - root mean squared error: 8.6572\n"
          ]
        }
      ]
    },
    {
      "cell_type": "markdown",
      "source": [
        "Interpretacja graficzna"
      ],
      "metadata": {
        "id": "q4HwF8ztE7rI"
      }
    },
    {
      "cell_type": "code",
      "source": [
        "\n",
        "def plot_regression_results(y_true, y_pred):\n",
        "\n",
        "    results = pd.DataFrame({'y_true': y_true, 'y_pred': y_pred})\n",
        "    min = results[['y_true', 'y_pred']].min().min()\n",
        "    max = results[['y_true', 'y_pred']].max().max()\n",
        "\n",
        "    fig = go.Figure(data=[go.Scatter(x=results['y_true'], y=results['y_pred'], mode='markers'),\n",
        "                    go.Scatter(x=[min, max], y=[min, max])],\n",
        "                    layout=go.Layout(showlegend=False, width=800,\n",
        "                                     xaxis_title='y_true',\n",
        "                                     yaxis_title='y_pred',\n",
        "                                     title='Regresja: y_true vs. y_pred'))\n",
        "    fig.show()\n",
        "\n",
        "plot_regression_results(y_true, y_pred)"
      ],
      "metadata": {
        "colab": {
          "base_uri": "https://localhost:8080/",
          "height": 542
        },
        "id": "Xsr4u5vjE4xt",
        "outputId": "8c2c5e4e-20b9-4384-81b4-5ee5d20d6925"
      },
      "execution_count": 7,
      "outputs": [
        {
          "output_type": "display_data",
          "data": {
            "text/html": [
              "<html>\n",
              "<head><meta charset=\"utf-8\" /></head>\n",
              "<body>\n",
              "    <div>            <script src=\"https://cdnjs.cloudflare.com/ajax/libs/mathjax/2.7.5/MathJax.js?config=TeX-AMS-MML_SVG\"></script><script type=\"text/javascript\">if (window.MathJax && window.MathJax.Hub && window.MathJax.Hub.Config) {window.MathJax.Hub.Config({SVG: {font: \"STIX-Web\"}});}</script>                <script type=\"text/javascript\">window.PlotlyConfig = {MathJaxConfig: 'local'};</script>\n",
              "        <script charset=\"utf-8\" src=\"https://cdn.plot.ly/plotly-2.35.2.min.js\"></script>                <div id=\"5e490a0a-dcd0-47d1-8d3b-ee92cba1cc7c\" class=\"plotly-graph-div\" style=\"height:525px; width:800px;\"></div>            <script type=\"text/javascript\">                                    window.PLOTLYENV=window.PLOTLYENV || {};                                    if (document.getElementById(\"5e490a0a-dcd0-47d1-8d3b-ee92cba1cc7c\")) {                    Plotly.newPlot(                        \"5e490a0a-dcd0-47d1-8d3b-ee92cba1cc7c\",                        [{\"mode\":\"markers\",\"x\":[109.93428306022466,97.2347139765763,112.95377076201385,130.46059712816052,95.31693250553329,95.3172608610164,131.58425631014782,115.34869458305818,90.61051228130096,110.8512008717193,90.73164614375075,90.68540492859486,104.83924543132068,61.73439510684404,65.50164334973934,88.75424941518054,79.74337759331152,106.28494665190547,81.83951848957578,71.75392597329417,129.31297537843108,95.4844739902693,101.35056409375848,71.50503627573087,89.11234550949635,102.21845179419732,76.98012845155395,107.51396036691344,87.9872262016239,94.16612500413447,87.96586775541206,137.04556369017877,99.73005550524132,78.84578142088199,116.45089824206377,75.58312700057955,104.1772719000951,60.80659752240449,73.43627902203139,103.93722471738246,114.76933159990821,103.4273656237994,97.68703435223519,93.97792608821422,70.42956019265145,85.60311583210583,90.78722458080425,121.1424445243783,106.87236579136923,64.73919689274533],\"y\":[113.1751227541726,93.38389117241314,106.18455075895426,136.5773600165692,105.6269277304928,104.63006205217837,123.19208107792144,112.25657082454603,93.92314659533659,120.60665214294289,85.93990376529786,88.8288151619567,93.77589569126039,49.772328866037334,73.62690157368132,102.31664970088877,79.02327637750818,116.3202756308257,85.45587874005213,65.30272842724293,132.92693143351522,110.86483965492899,100.99230370265896,87.15147283387094,62.9148944685989,110.43747683794956,77.85059913393566,104.52388686225476,88.90483396697893,74.29043585812555,85.76914887703694,140.61668940529623,114.50899595265649,73.66307923814551,108.3659622131319,70.56555656473418,113.33129307711584,64.09410861900133,68.138676984361,109.06989904851602,115.74010709338862,113.11381552912829,90.66650341346167,90.70130462223653,66.50847866132987,70.96796635078465,93.74842735145,123.7529972461772,106.92350035779384,62.39332555899386],\"type\":\"scatter\"},{\"x\":[49.772328866037334,140.61668940529623],\"y\":[49.772328866037334,140.61668940529623],\"type\":\"scatter\"}],                        {\"showlegend\":false,\"title\":{\"text\":\"Regresja: y_true vs. y_pred\"},\"width\":800,\"xaxis\":{\"title\":{\"text\":\"y_true\"}},\"yaxis\":{\"title\":{\"text\":\"y_pred\"}},\"template\":{\"data\":{\"histogram2dcontour\":[{\"type\":\"histogram2dcontour\",\"colorbar\":{\"outlinewidth\":0,\"ticks\":\"\"},\"colorscale\":[[0.0,\"#0d0887\"],[0.1111111111111111,\"#46039f\"],[0.2222222222222222,\"#7201a8\"],[0.3333333333333333,\"#9c179e\"],[0.4444444444444444,\"#bd3786\"],[0.5555555555555556,\"#d8576b\"],[0.6666666666666666,\"#ed7953\"],[0.7777777777777778,\"#fb9f3a\"],[0.8888888888888888,\"#fdca26\"],[1.0,\"#f0f921\"]]}],\"choropleth\":[{\"type\":\"choropleth\",\"colorbar\":{\"outlinewidth\":0,\"ticks\":\"\"}}],\"histogram2d\":[{\"type\":\"histogram2d\",\"colorbar\":{\"outlinewidth\":0,\"ticks\":\"\"},\"colorscale\":[[0.0,\"#0d0887\"],[0.1111111111111111,\"#46039f\"],[0.2222222222222222,\"#7201a8\"],[0.3333333333333333,\"#9c179e\"],[0.4444444444444444,\"#bd3786\"],[0.5555555555555556,\"#d8576b\"],[0.6666666666666666,\"#ed7953\"],[0.7777777777777778,\"#fb9f3a\"],[0.8888888888888888,\"#fdca26\"],[1.0,\"#f0f921\"]]}],\"heatmap\":[{\"type\":\"heatmap\",\"colorbar\":{\"outlinewidth\":0,\"ticks\":\"\"},\"colorscale\":[[0.0,\"#0d0887\"],[0.1111111111111111,\"#46039f\"],[0.2222222222222222,\"#7201a8\"],[0.3333333333333333,\"#9c179e\"],[0.4444444444444444,\"#bd3786\"],[0.5555555555555556,\"#d8576b\"],[0.6666666666666666,\"#ed7953\"],[0.7777777777777778,\"#fb9f3a\"],[0.8888888888888888,\"#fdca26\"],[1.0,\"#f0f921\"]]}],\"heatmapgl\":[{\"type\":\"heatmapgl\",\"colorbar\":{\"outlinewidth\":0,\"ticks\":\"\"},\"colorscale\":[[0.0,\"#0d0887\"],[0.1111111111111111,\"#46039f\"],[0.2222222222222222,\"#7201a8\"],[0.3333333333333333,\"#9c179e\"],[0.4444444444444444,\"#bd3786\"],[0.5555555555555556,\"#d8576b\"],[0.6666666666666666,\"#ed7953\"],[0.7777777777777778,\"#fb9f3a\"],[0.8888888888888888,\"#fdca26\"],[1.0,\"#f0f921\"]]}],\"contourcarpet\":[{\"type\":\"contourcarpet\",\"colorbar\":{\"outlinewidth\":0,\"ticks\":\"\"}}],\"contour\":[{\"type\":\"contour\",\"colorbar\":{\"outlinewidth\":0,\"ticks\":\"\"},\"colorscale\":[[0.0,\"#0d0887\"],[0.1111111111111111,\"#46039f\"],[0.2222222222222222,\"#7201a8\"],[0.3333333333333333,\"#9c179e\"],[0.4444444444444444,\"#bd3786\"],[0.5555555555555556,\"#d8576b\"],[0.6666666666666666,\"#ed7953\"],[0.7777777777777778,\"#fb9f3a\"],[0.8888888888888888,\"#fdca26\"],[1.0,\"#f0f921\"]]}],\"surface\":[{\"type\":\"surface\",\"colorbar\":{\"outlinewidth\":0,\"ticks\":\"\"},\"colorscale\":[[0.0,\"#0d0887\"],[0.1111111111111111,\"#46039f\"],[0.2222222222222222,\"#7201a8\"],[0.3333333333333333,\"#9c179e\"],[0.4444444444444444,\"#bd3786\"],[0.5555555555555556,\"#d8576b\"],[0.6666666666666666,\"#ed7953\"],[0.7777777777777778,\"#fb9f3a\"],[0.8888888888888888,\"#fdca26\"],[1.0,\"#f0f921\"]]}],\"mesh3d\":[{\"type\":\"mesh3d\",\"colorbar\":{\"outlinewidth\":0,\"ticks\":\"\"}}],\"scatter\":[{\"fillpattern\":{\"fillmode\":\"overlay\",\"size\":10,\"solidity\":0.2},\"type\":\"scatter\"}],\"parcoords\":[{\"type\":\"parcoords\",\"line\":{\"colorbar\":{\"outlinewidth\":0,\"ticks\":\"\"}}}],\"scatterpolargl\":[{\"type\":\"scatterpolargl\",\"marker\":{\"colorbar\":{\"outlinewidth\":0,\"ticks\":\"\"}}}],\"bar\":[{\"error_x\":{\"color\":\"#2a3f5f\"},\"error_y\":{\"color\":\"#2a3f5f\"},\"marker\":{\"line\":{\"color\":\"#E5ECF6\",\"width\":0.5},\"pattern\":{\"fillmode\":\"overlay\",\"size\":10,\"solidity\":0.2}},\"type\":\"bar\"}],\"scattergeo\":[{\"type\":\"scattergeo\",\"marker\":{\"colorbar\":{\"outlinewidth\":0,\"ticks\":\"\"}}}],\"scatterpolar\":[{\"type\":\"scatterpolar\",\"marker\":{\"colorbar\":{\"outlinewidth\":0,\"ticks\":\"\"}}}],\"histogram\":[{\"marker\":{\"pattern\":{\"fillmode\":\"overlay\",\"size\":10,\"solidity\":0.2}},\"type\":\"histogram\"}],\"scattergl\":[{\"type\":\"scattergl\",\"marker\":{\"colorbar\":{\"outlinewidth\":0,\"ticks\":\"\"}}}],\"scatter3d\":[{\"type\":\"scatter3d\",\"line\":{\"colorbar\":{\"outlinewidth\":0,\"ticks\":\"\"}},\"marker\":{\"colorbar\":{\"outlinewidth\":0,\"ticks\":\"\"}}}],\"scattermapbox\":[{\"type\":\"scattermapbox\",\"marker\":{\"colorbar\":{\"outlinewidth\":0,\"ticks\":\"\"}}}],\"scatterternary\":[{\"type\":\"scatterternary\",\"marker\":{\"colorbar\":{\"outlinewidth\":0,\"ticks\":\"\"}}}],\"scattercarpet\":[{\"type\":\"scattercarpet\",\"marker\":{\"colorbar\":{\"outlinewidth\":0,\"ticks\":\"\"}}}],\"carpet\":[{\"aaxis\":{\"endlinecolor\":\"#2a3f5f\",\"gridcolor\":\"white\",\"linecolor\":\"white\",\"minorgridcolor\":\"white\",\"startlinecolor\":\"#2a3f5f\"},\"baxis\":{\"endlinecolor\":\"#2a3f5f\",\"gridcolor\":\"white\",\"linecolor\":\"white\",\"minorgridcolor\":\"white\",\"startlinecolor\":\"#2a3f5f\"},\"type\":\"carpet\"}],\"table\":[{\"cells\":{\"fill\":{\"color\":\"#EBF0F8\"},\"line\":{\"color\":\"white\"}},\"header\":{\"fill\":{\"color\":\"#C8D4E3\"},\"line\":{\"color\":\"white\"}},\"type\":\"table\"}],\"barpolar\":[{\"marker\":{\"line\":{\"color\":\"#E5ECF6\",\"width\":0.5},\"pattern\":{\"fillmode\":\"overlay\",\"size\":10,\"solidity\":0.2}},\"type\":\"barpolar\"}],\"pie\":[{\"automargin\":true,\"type\":\"pie\"}]},\"layout\":{\"autotypenumbers\":\"strict\",\"colorway\":[\"#636efa\",\"#EF553B\",\"#00cc96\",\"#ab63fa\",\"#FFA15A\",\"#19d3f3\",\"#FF6692\",\"#B6E880\",\"#FF97FF\",\"#FECB52\"],\"font\":{\"color\":\"#2a3f5f\"},\"hovermode\":\"closest\",\"hoverlabel\":{\"align\":\"left\"},\"paper_bgcolor\":\"white\",\"plot_bgcolor\":\"#E5ECF6\",\"polar\":{\"bgcolor\":\"#E5ECF6\",\"angularaxis\":{\"gridcolor\":\"white\",\"linecolor\":\"white\",\"ticks\":\"\"},\"radialaxis\":{\"gridcolor\":\"white\",\"linecolor\":\"white\",\"ticks\":\"\"}},\"ternary\":{\"bgcolor\":\"#E5ECF6\",\"aaxis\":{\"gridcolor\":\"white\",\"linecolor\":\"white\",\"ticks\":\"\"},\"baxis\":{\"gridcolor\":\"white\",\"linecolor\":\"white\",\"ticks\":\"\"},\"caxis\":{\"gridcolor\":\"white\",\"linecolor\":\"white\",\"ticks\":\"\"}},\"coloraxis\":{\"colorbar\":{\"outlinewidth\":0,\"ticks\":\"\"}},\"colorscale\":{\"sequential\":[[0.0,\"#0d0887\"],[0.1111111111111111,\"#46039f\"],[0.2222222222222222,\"#7201a8\"],[0.3333333333333333,\"#9c179e\"],[0.4444444444444444,\"#bd3786\"],[0.5555555555555556,\"#d8576b\"],[0.6666666666666666,\"#ed7953\"],[0.7777777777777778,\"#fb9f3a\"],[0.8888888888888888,\"#fdca26\"],[1.0,\"#f0f921\"]],\"sequentialminus\":[[0.0,\"#0d0887\"],[0.1111111111111111,\"#46039f\"],[0.2222222222222222,\"#7201a8\"],[0.3333333333333333,\"#9c179e\"],[0.4444444444444444,\"#bd3786\"],[0.5555555555555556,\"#d8576b\"],[0.6666666666666666,\"#ed7953\"],[0.7777777777777778,\"#fb9f3a\"],[0.8888888888888888,\"#fdca26\"],[1.0,\"#f0f921\"]],\"diverging\":[[0,\"#8e0152\"],[0.1,\"#c51b7d\"],[0.2,\"#de77ae\"],[0.3,\"#f1b6da\"],[0.4,\"#fde0ef\"],[0.5,\"#f7f7f7\"],[0.6,\"#e6f5d0\"],[0.7,\"#b8e186\"],[0.8,\"#7fbc41\"],[0.9,\"#4d9221\"],[1,\"#276419\"]]},\"xaxis\":{\"gridcolor\":\"white\",\"linecolor\":\"white\",\"ticks\":\"\",\"title\":{\"standoff\":15},\"zerolinecolor\":\"white\",\"automargin\":true,\"zerolinewidth\":2},\"yaxis\":{\"gridcolor\":\"white\",\"linecolor\":\"white\",\"ticks\":\"\",\"title\":{\"standoff\":15},\"zerolinecolor\":\"white\",\"automargin\":true,\"zerolinewidth\":2},\"scene\":{\"xaxis\":{\"backgroundcolor\":\"#E5ECF6\",\"gridcolor\":\"white\",\"linecolor\":\"white\",\"showbackground\":true,\"ticks\":\"\",\"zerolinecolor\":\"white\",\"gridwidth\":2},\"yaxis\":{\"backgroundcolor\":\"#E5ECF6\",\"gridcolor\":\"white\",\"linecolor\":\"white\",\"showbackground\":true,\"ticks\":\"\",\"zerolinecolor\":\"white\",\"gridwidth\":2},\"zaxis\":{\"backgroundcolor\":\"#E5ECF6\",\"gridcolor\":\"white\",\"linecolor\":\"white\",\"showbackground\":true,\"ticks\":\"\",\"zerolinecolor\":\"white\",\"gridwidth\":2}},\"shapedefaults\":{\"line\":{\"color\":\"#2a3f5f\"}},\"annotationdefaults\":{\"arrowcolor\":\"#2a3f5f\",\"arrowhead\":0,\"arrowwidth\":1},\"geo\":{\"bgcolor\":\"white\",\"landcolor\":\"#E5ECF6\",\"subunitcolor\":\"white\",\"showland\":true,\"showlakes\":true,\"lakecolor\":\"white\"},\"title\":{\"x\":0.05},\"mapbox\":{\"style\":\"light\"}}}},                        {\"responsive\": true}                    ).then(function(){\n",
              "                            \n",
              "var gd = document.getElementById('5e490a0a-dcd0-47d1-8d3b-ee92cba1cc7c');\n",
              "var x = new MutationObserver(function (mutations, observer) {{\n",
              "        var display = window.getComputedStyle(gd).display;\n",
              "        if (!display || display === 'none') {{\n",
              "            console.log([gd, 'removed!']);\n",
              "            Plotly.purge(gd);\n",
              "            observer.disconnect();\n",
              "        }}\n",
              "}});\n",
              "\n",
              "// Listen for the removal of the full notebook cells\n",
              "var notebookContainer = gd.closest('#notebook-container');\n",
              "if (notebookContainer) {{\n",
              "    x.observe(notebookContainer, {childList: true});\n",
              "}}\n",
              "\n",
              "// Listen for the clearing of the current output cell\n",
              "var outputEl = gd.closest('.output');\n",
              "if (outputEl) {{\n",
              "    x.observe(outputEl, {childList: true});\n",
              "}}\n",
              "\n",
              "                        })                };                            </script>        </div>\n",
              "</body>\n",
              "</html>"
            ]
          },
          "metadata": {}
        }
      ]
    },
    {
      "cell_type": "code",
      "source": [
        "\n",
        "y_true = 100 + 20 * np.random.randn(1000)\n",
        "y_pred = y_true + 10 * np.random.randn(1000)\n",
        "\n",
        "results = pd.DataFrame({'y_true': y_true, 'y_pred': y_pred})\n",
        "results['error'] = results['y_true'] - results['y_pred']\n",
        "\n",
        "px.histogram(results, x='error', nbins=50, width=800)"
      ],
      "metadata": {
        "colab": {
          "base_uri": "https://localhost:8080/",
          "height": 542
        },
        "id": "pvrvX3uwFA0t",
        "outputId": "fed81c3a-e2d5-4b35-bd84-572c4b25c813"
      },
      "execution_count": 8,
      "outputs": [
        {
          "output_type": "display_data",
          "data": {
            "text/html": [
              "<html>\n",
              "<head><meta charset=\"utf-8\" /></head>\n",
              "<body>\n",
              "    <div>            <script src=\"https://cdnjs.cloudflare.com/ajax/libs/mathjax/2.7.5/MathJax.js?config=TeX-AMS-MML_SVG\"></script><script type=\"text/javascript\">if (window.MathJax && window.MathJax.Hub && window.MathJax.Hub.Config) {window.MathJax.Hub.Config({SVG: {font: \"STIX-Web\"}});}</script>                <script type=\"text/javascript\">window.PlotlyConfig = {MathJaxConfig: 'local'};</script>\n",
              "        <script charset=\"utf-8\" src=\"https://cdn.plot.ly/plotly-2.35.2.min.js\"></script>                <div id=\"465c7a3c-79af-41a7-a6ff-01de10b298d5\" class=\"plotly-graph-div\" style=\"height:525px; width:800px;\"></div>            <script type=\"text/javascript\">                                    window.PLOTLYENV=window.PLOTLYENV || {};                                    if (document.getElementById(\"465c7a3c-79af-41a7-a6ff-01de10b298d5\")) {                    Plotly.newPlot(                        \"465c7a3c-79af-41a7-a6ff-01de10b298d5\",                        [{\"alignmentgroup\":\"True\",\"bingroup\":\"x\",\"hovertemplate\":\"error=%{x}\\u003cbr\\u003ecount=%{y}\\u003cextra\\u003e\\u003c\\u002fextra\\u003e\",\"legendgroup\":\"\",\"marker\":{\"color\":\"#636efa\",\"pattern\":{\"shape\":\"\"}},\"name\":\"\",\"nbinsx\":50,\"offsetgroup\":\"\",\"orientation\":\"v\",\"showlegend\":false,\"x\":[-9.98010109859652,28.96255378193689,-20.883747047807276,1.3958962815517424,-11.081828167375164,10.399059271255311,-6.127739050625706,10.534155631736567,6.237689606958057,-19.140313538667854,1.9068240076334675,-2.1743287317972317,-8.700677306887542,-4.9568188797260575,-1.504189051435759,-3.649610024662252,-24.034155852382753,0.5761879703358517,-2.010990467149682,-10.506543960076115,-11.05525932957984,-11.870303055603799,-6.3873022202918435,11.430049127304834,-16.33431532301097,11.463453930186887,-3.0263546523903386,7.542758500193585,0.6413834659299198,-3.2876241030348012,-3.213572154502728,-4.219207542352848,-16.137112690586463,-4.5353430151398015,2.4415663529064915,-9.640871682883585,-11.894704889246398,12.27607815136993,-5.974000698498585,-7.0117274231089795,2.9756350335999144,-13.757068133116206,1.5005558703252717,-1.255764534715425,1.730718242838691,-0.1557904758146691,10.962750868952014,14.400508825942943,-15.945050632249718,8.46961348318328,9.913923494563065,21.533901136037144,6.389617476895026,13.230897934074989,-16.420151601363685,-10.098170893426342,6.881503451777235,-22.52435805344308,-9.817654869915941,3.248313835086222,24.994057148735735,-22.90942572590741,13.89572466763596,16.453987469568915,-10.225704320096398,-24.397524063392737,-13.842728185105187,-5.639091200523609,-5.947543416652863,-8.53415558780307,-7.589285897867654,-2.8119142396937633,-1.042011039518755,0.6259312789952247,7.539645888666769,2.80675076866774,16.92956814195385,0.9833962679475121,9.88591107150917,11.0358931721577,-1.7989415115347782,-13.920022863445993,-9.183166060023126,15.705006036231765,9.896281365703373,-9.407711879882157,9.824873935383096,2.246331499970239,-5.500520990245519,9.683444548636352,-1.0537550614595972,13.34025494918204,6.013676439512139,-3.1978193414253724,15.929937335316694,-4.4047473796039895,0.19637798926680716,-5.524899544171475,-2.2391413406466114,-13.64140429973844,-1.2522450264790734,4.294055411252529,-1.2229750303228428,-5.432980290363886,-0.48860070325704896,-0.4059169120388191,7.019916878067548,6.629009175509481,14.026052717996933,-17.495767431869382,12.438632353912851,6.929051977959077,7.184072655691978,-8.949243769444408,2.949496782920278,-12.477420726737336,6.734906242438683,-2.7899416222380182,8.35347053259757,-21.45149127773388,11.875984190295128,-3.0982071022702726,-6.337768809320991,-4.137990974514977,1.8528765887770788,1.2982069973342618,-0.43811471979110195,1.4700200162848915,-9.638791167949094,-22.105230015913506,5.574917850078336,13.698029795790774,0.8828204835125462,-25.797093376543188,8.036745679697304,-16.39116805444067,-16.77700814076441,5.5358824170799465,-5.689830791852756,-16.283966231285376,3.7912774098748656,2.0358036010236162,5.816809139486438,10.147567306928664,6.492775450660076,12.23940266762257,-0.34083468259225924,7.699732310586413,-2.3378591179074704,15.558956462036278,-3.3088023221445724,-8.335289616089241,19.937356425714555,-3.74056569847572,-12.27668992473292,12.096410186912053,-16.725723868377045,-4.190190093660448,7.050118557584085,0.5576907765770613,-5.583269125217228,-0.7600539141241143,-5.3875599244636945,9.20673593079367,-1.6936082403607742,14.1371449690498,1.1122606134869955,9.039076414647894,7.35529942589767,-12.360931752104378,-10.913101205942695,-6.09138120907177,10.923127646725789,3.1640844969480213,-12.130976999791827,-1.4171691363990533,-23.193295399816947,-3.93317839394372,-1.9204911649003122,3.0911646420250207,-1.3354090478228215,1.5246983638054417,-7.081086766885903,-9.567023167945848,7.859894605079489,13.312329535577781,18.362053731032972,-5.079913269125441,11.033666061738728,21.528905929524825,-3.8857860453096436,-24.929995174327914,0.060709115398935865,-8.384907744516411,-0.8182935854756437,0.988896531911422,-9.19076482987768,2.902745441886509,-2.673923140719026,-3.216978061960134,6.680904536430489,-9.920423495365227,1.7495975669540798,7.557451594928452,-5.365098435704041,8.984679817910376,-0.28181157369128584,0.09118996644203037,-10.858955658315779,-4.7469823287995325,0.25026958745144157,-8.17766299200288,-13.902075490173132,-5.5781030635186255,-0.10352619843381206,13.1183623235016,10.651136630753726,3.0522470435466715,6.095122021592829,1.8697130298544664,-0.5664992489710698,-5.296927543567307,0.7049877805909119,-4.865016438262018,-0.6447441481011964,19.754665663538717,9.393353938187545,1.4408755572161596,12.09694742841107,-5.999287299962049,-15.307508323436977,-12.187618516973174,2.1344287093020853,-14.907261368499519,-1.4866745720211156,3.370859711180387,6.134026635409398,3.024696864881278,3.881768185412284,-1.704162223754878,-1.6057398104986476,-0.030460201534140197,-4.369381697463496,-11.906462747863415,-9.495541354413234,14.848979684499042,25.539211349019553,-9.343199112392739,13.66878698415421,2.2476540189268377,11.701130260593601,18.01980437580019,-5.414627282047874,-7.591551603026474,5.7651040072671975,25.910422921449097,5.46244448252483,-3.918040054025468,14.789115687741287,-1.833599197791557,0.15309849172994916,-5.792914996010893,-1.1958036841415378,9.73068940881555,-11.965715016644921,1.5852957302697064,0.2730453950993166,9.332679590731956,4.432822511915106,8.84802714026901,1.7294605992342298,-17.11708480142343,13.719011429313568,16.13561397876741,-14.711703274936099,2.0932367715186615,6.690727386599164,-10.39904687396077,6.056155397368627,-18.260097135469366,-6.779258713392693,4.879114081457033,-21.57308213265503,6.057149230033389,-7.420953720093067,-2.9929258040649245,-13.01741289398798,-15.615111967268518,-0.3200414906576725,7.5341787034618335,-4.599721429391167,6.777153697521058,-20.13387247526623,-1.3653533108273734,3.653215513121083,-1.846803058649087,13.471262895296967,9.716140385106513,-12.004139079444258,6.568942789713958,10.469109826819398,-5.366527525272858,-11.857041546629972,-7.189533106650671,-9.960476858058158,7.5679508856946,14.21810666741844,-15.01333651955487,3.226798388421358,2.508330164550472,-13.281941418490575,-5.562300094006602,-4.558877720816071,-21.650023449010845,6.435182303801426,-9.278401280812375,-0.5701312489708528,-2.685922788632567,-15.284684264125318,-5.078357562896244,-5.382960790496327,-10.725073373098013,3.649527295428854,8.392096673390057,10.448091940210332,19.663565893760023,-20.562071299403215,11.03208365721683,2.2125362358577263,2.7681329988892074,-3.074066978091011,-8.157372125392968,-8.604734883597459,5.830774385689381,1.6712171378641187,-2.825799504882994,2.4869112618354734,-16.073455760199934,-4.909749516382519,-7.348777860498174,-6.628812686674124,-11.734738574853253,-1.8102155870370709,12.96831947955846,-3.996879517526409,6.5135689379182935,5.286166817497573,-5.863640187550928,-12.382830714336365,-0.2127157673606206,-3.0883301259896427,-17.022149446352387,-2.407531794885685,-26.016831141803962,-5.655096456315448,17.607627591558185,-7.533416211045321,-3.8115838488277802,-12.897527540827454,-6.731813512699588,1.384559839837749,12.242982362893656,2.090232572860259,8.505204542092997,5.805234498047227,-5.8857840442060905,-16.699045043514076,-3.9467152982298046,11.958830620351847,-4.446026682201406,-11.966314866456514,6.097829043193819,1.3401716667291765,-0.14688194729197335,7.848983130822404,-6.482804338438598,1.20948148607782,-4.195324439070276,8.87492177802099,4.3745830032341075,-7.2238135782777135,3.7283315209176635,-17.269638512334055,3.9963618561460237,-2.2468472575188656,-9.325908318730896,14.183657329330316,17.60808811980776,15.256563145700952,-12.62584103427183,5.518581458924473,-25.58199285668252,5.642475986573885,-1.8455130319703699,-15.421099525678756,-20.060928881591224,-20.615035766363974,-12.083662305931426,-10.240625258114619,-5.925269492011836,-7.783610761666381,5.5118571632853275,8.18198883422307,0.033744574109519476,1.7018462252492839,4.532280493272751,-6.963874474567149,-9.553052085705104,-0.8840688629184683,-14.775300810552622,11.416891141335043,1.936594592797178,7.1682232060280455,18.6653661707306,0.8268068584269912,1.2174750838328379,-15.134497432421313,-6.308116845547772,10.241868243292046,-18.54092566334188,-12.210336955253524,-5.820977034686152,2.264840988498321,9.594392367234803,3.72206776071053,-10.887486197041866,-18.845863059346087,-15.432435282721883,4.888494217862743,11.19617433289011,-1.4088624691120373,17.68439365562851,-3.231677141847811,1.4760258629866883,4.660365018682427,15.94703067266795,-5.136001065697172,5.327008396619121,11.699168357102877,28.722622132816497,0.2751490505063572,-17.722515966697443,-16.6125921454787,4.570962565862715,6.022120603617807,-4.687742560750237,9.983854391882915,-3.0179189981946593,-7.660802783846904,-12.269332238843077,1.001540764799529,2.0367375017696645,8.779825867565606,8.268803540398608,2.264788919015274,-3.6736550681617786,-9.135846262332493,8.031789506803449,-14.92688568959521,2.7112360104256936,0.2136729434843545,7.472116791478243,24.242402602729413,-8.8404539636105,-7.3684389709243305,2.813275571182132,-0.6699071722487204,-5.159392177040999,15.625458568865426,5.290526773462943,-7.94264679621827,12.542894231692486,-2.935579321666296,13.565818046234043,-4.664299824335259,0.35641482297483407,16.151318159055094,-11.647393544571713,7.345915767980493,8.102524370143811,-2.0056919723094353,-11.48637349428715,10.158218189783966,-0.6167984984797101,-4.2881650033057355,-6.931056072631435,-1.764415552772249,3.670278390833218,8.275902206487203,-0.8614388304637544,10.721390119856068,29.21350483494607,-4.365598041576675,-9.039348410861948,23.62932435541839,10.097307047099378,-6.191542610051982,-20.574954697116993,-0.20793707675407802,7.280029412291341,1.8289644110484033,-13.748764191481854,6.45964179124536,7.99192006650253,4.827435221820323,9.533286082587125,-1.2267031599479594,-16.246784584695604,-3.2307927311602924,2.523535021262873,2.9181126891554356,15.631908086966575,-8.83109777147159,0.7783719701280205,1.8047991359062507,-31.931075678448607,-2.9875290836568666,7.517910500951842,4.263575962055427,-11.484457091967556,-1.1327041053776412,14.382779783173675,-9.192289345752044,6.681440855389937,-18.732977762175466,-10.80048065714648,4.473218956587516,-12.810163617351122,-0.6785551052740288,-8.527736751222193,-4.847328172944742,8.463566549908734,6.435498323174613,-10.299608175811613,3.3477533210654116,4.03648463241997,9.55122579349353,-4.235990655934614,-20.625249192431454,10.67532914254273,-0.24219456672757644,-14.122205554154277,0.7964139124571545,-4.523717962497344,10.623935281468789,-4.283070972076487,1.8714426500454877,-9.857299956798627,-11.873860515647507,-25.895636420186136,-5.796331732135769,-3.257963165821664,-1.9438430157733535,3.5316629281068828,-3.38483843461691,2.9540141013902996,-1.684609762696141,-13.17597535607959,10.065425652796407,-11.39878561129045,-13.171150673398657,1.1806852699107822,21.21854899008595,6.078219870944324,-12.96994546561109,0.22868062298881853,9.993022322949102,5.04774921228217,-8.406200265045527,-5.467335682013797,2.3893209916969482,3.6682441181468732,3.9175814904382236,9.224101844985029,-16.153756894694425,3.2232046921133986,-12.171585208254967,-15.213160519224516,-9.983108981479603,4.316203127180486,-4.037300903366102,0.24195606390915714,9.037018607301277,-3.243592817216026,11.79039791159802,-11.876793884615637,4.646172972983933,-2.0115965587283995,-2.832878715461419,2.5890497370407672,-5.866938014752748,4.749036566225243,-8.712972974572438,13.45979680246748,-1.2637957954641195,-19.389289990582853,10.00331324605574,6.7774497052485145,-5.13907849658915,-1.7958178193959782,-3.5063009927355893,-4.891871301476641,-6.3472146856177005,-11.096998419562226,-4.098186569285133,2.41257654618542,-6.7257370120273094,-18.998819348952168,1.3263374638257375,9.745293046706422,-11.070806692869724,1.203811639535985,21.726695460140363,-8.474216771504217,5.353281859539223,0.9053328230416042,-3.3198033056901437,-1.904996797790659,-7.094518171390391,4.354863705698435,-5.131057981760833,2.5954667758391707,-7.388104808875028,-6.153674840130535,9.354387020445955,-10.859821161750318,5.359634451140479,-8.080577982811448,-3.6728731340134004,-18.381836767951228,2.2346598237185162,3.4931679611819817,0.19419605887732416,3.0317978283427536,-7.999419019420486,16.16310608436588,10.536824191463538,10.678029215791923,-9.50307591973575,-17.106133725819262,1.0444921853747147,1.6882172319001114,-0.7005216311318208,-11.6187830260819,9.273531341905738,-2.383689827347851,-9.7519762978243,-5.010941699398458,-1.8958161659874406,-10.01046092567141,27.032322929992375,-6.778753195309079,6.540756831274237,18.30632896856457,-5.112025995249809,-13.736585451629566,1.3744851462769248,-9.528745472029385,-16.122782579886447,-13.149144535840477,-16.39964529371393,-7.421274910718921,-0.7543363890159185,16.01965811897169,2.4606248812994806,8.432465953161923,-21.70942717497813,1.7588581243233534,-1.2320480678448575,-5.514853760404662,-0.43602446372453585,-16.950510404307522,6.2264936173445165,-1.9460745523724228,7.424705856980481,13.200225112207058,6.117690909052854,0.37036797048412495,4.293022245172594,6.924209798738559,14.063174636718344,0.831055726286948,15.047203740310025,-7.600559636896023,-0.8243975293450347,14.57551499464931,3.092090770498629,7.521564055905827,-3.19174510419181,-13.40450446023145,18.751724696457444,-1.1502607914741674,1.601327955666406,-6.713400764504655,-2.1319662823768937,7.519693317388189,3.1905393566661786,7.960258568034888,-10.760071385985981,-0.21311648671942862,-19.01190685753008,0.6066081381462141,7.084067669104627,15.137143926128275,18.031396762559453,15.841359430054894,-2.671266510114833,-5.08725023229934,15.811907020321328,-8.950383140761147,4.830610516834398,-1.4679301198554953,-16.12220628255423,-8.968393158655317,2.685306479058326,8.91192225415287,21.518154013293056,7.1915331924242025,2.1113023882769397,9.871795271511843,1.3125696709230539,-0.7685188295876912,2.2485598180807926,6.5000258082345965,-1.6865467196672768,-4.419406495694091,10.903990774428465,-14.109323797462707,0.9858813228426158,-0.1884962294484751,-7.082144232565568,-2.332161312635023,-9.531366339132447,-2.8712416520182416,6.124373746404373,-3.61503525206102,11.437262073206625,-1.0855970577652272,0.3322999064446037,2.081168572725403,1.2853751143893106,18.8184904549764,5.487249077409615,-0.9284490114111463,-1.5985639199739978,10.276751409259589,-12.65707840864701,8.661748482145015,-9.69457200526736,-4.271943618716847,6.4622730984380325,-17.753108926095123,11.9363683175648,-9.191541736100021,-10.005823180429786,6.706202090766453,-13.92465300064329,2.500465145989523,-2.8869362927985662,-2.6032183877122037,1.3430874147054794,-8.108082731597818,-7.934887205522131,17.48531973238181,-13.04340242878152,16.624919880356742,-10.325462043416579,-11.26705136827583,10.909664302151981,4.108142879545852,11.057046684859358,2.1492103028873544,3.0803428418574157,-7.796605322693395,-13.103087461196083,-13.956838107899557,5.621680265783027,2.092218737445279,16.834381922209502,8.05870066496189,-9.648516330974587,-16.155828235482318,12.343488718799222,5.9246425915289365,0.2640575695892693,-2.8016115881960673,8.096035199216459,-4.240610444640893,4.7383934707091555,0.1445227087827874,-5.462842480036997,-0.06422269810937564,4.363858905265687,1.0960980392583082,0.883629592053353,3.700110298821272,2.58796062667102,-15.986471705047165,-5.6091944794123805,2.9548031802916057,-6.969544045107355,3.3381948975601006,-11.73124637586642,-3.696421921980928,1.0730214400422824,-4.477169258102776,15.708761520684995,11.267674689098058,11.939250063990556,-1.4294309476370586,-17.325149994850918,-22.31300146192632,-6.380511014407574,-5.008444749444578,18.010577341527394,5.4267379973402115,7.877837519082391,6.20847598251116,1.6814381858478953,4.7209057769712786,19.79299810375788,-7.479102561175338,10.727430257398069,-2.392468641111492,-20.740826697499728,9.19384591586423,25.302875227463296,2.8600422188011123,-11.009596349985713,-19.583474542205934,12.295495944524163,-4.9669922323652145,4.65310456780054,1.0594835430413596,-26.443433470170348,15.029703283951534,-2.5373966149457345,-4.676931717654327,-10.857863249393475,-0.9798315347089499,-3.0805053950410297,3.9164856742179097,-2.691269412451078,3.43192275497411,-6.21571889856051,3.6961033604363394,-3.771003939021867,0.2926281368497854,-11.260502507721682,0.5139372358848675,17.73032468206881,-12.619215007139914,9.057323008626184,6.537663386488191,5.956612940434923,-13.744380931708179,21.35674213978696,-31.377485336599932,-10.56056809066051,-2.2323891412915913,0.5489400061628658,-2.8555407485765727,-5.211224283793385,-6.452155859500564,-5.5560446600344875,-0.895806812552479,1.973384203073266,1.5127328365351218,1.9490828035268066,-11.337700968670646,-5.935567222808615,29.403886346642807,-6.559007765297608,-1.9473619471877441,0.18708756445897734,3.885184530888857,-11.24112719986013,-9.475264621228582,7.728776678236088,-4.070522871245345,9.716567345412855,13.796181647889298,6.267172245899644,-8.623934723827588,-9.531250453760862,-5.130854200972934,-7.250957868479958,-5.161782871149583,6.414815952229517,-4.319225446739409,-8.004095252276826,-7.542913298135737,-11.889133714746436,-7.083038472010642,-3.5144820754158275,-10.701502383164268,0.2652125924905988,8.818746512277173,1.6306696394376416,7.449026448064487,6.7517827497438105,1.4451867071551732,7.924199209999614,3.0796152963904007,18.936146669537848,-2.13293707372938,-0.012054753622237513,8.170886310681908,-6.592456684324048,-9.375701376265582,16.075598643689744,7.627247785662149,7.691423497872989,9.399031011088653,-8.294748419317472,1.9382613877280335,2.6451484131061136,20.038623644067528,-6.35418030209226,12.392583948534721,-0.599326302663286,-2.773769379581921,-13.606585958386518,13.088203991191108,30.195121558208257,-1.8384954475369426,-18.005111815108535,-12.389463529394376,-2.0965941527462633,4.916361856320478,-8.071225966373106,9.735461997044688,-4.763577693562198,-5.054701591666273,-10.6020990749888,-27.596600389110762,-3.9241596717876774,5.089636257074986,0.25574312191994863,17.69075904889118,6.947131310890583,4.092824381131038,5.240883979345924,-1.5235487203372173,8.224199323822006,-11.210306673244702,-0.0020706491819737494,0.0930032113861472,3.278947165129182,-1.5519068385897867,-8.250982646676349,8.671302157109011,6.581164890752561,3.0372602877666424,13.458709234732154,8.192578597214975,4.762208735446592,-8.743891807127284,-2.6256132900192455,-1.9358991136754469,-8.508979621679714,1.3737178839939688,-3.9046484992888963,1.0322175293249671,-2.653623493996278,5.82758657611582,24.388171582764286,1.342791621863043,-14.227481360999406,-9.262154022415928,-9.653974845911705,-12.36130721806218,-0.886575909614379,-1.9731570740559619,6.176518954343507,3.160728560270499,-6.157711497711418,-12.038844371688157,1.394462756809986,4.501892648514115,-0.005279588565969107,-6.012067489291141,14.438548161335419,22.96180953137238,5.505368494915842,12.20712425914158,5.081401976473103,1.4778031881747182,4.5324840902301275,-14.524675344707461,-3.2674476460232,-3.004743596108284,-6.222071440434021,11.388331177807686,-10.391117874202692,0.7576428653545975,-6.70480617241212,10.718572330401557,15.53758766016064,-8.178896580250282],\"xaxis\":\"x\",\"yaxis\":\"y\",\"type\":\"histogram\"}],                        {\"template\":{\"data\":{\"histogram2dcontour\":[{\"type\":\"histogram2dcontour\",\"colorbar\":{\"outlinewidth\":0,\"ticks\":\"\"},\"colorscale\":[[0.0,\"#0d0887\"],[0.1111111111111111,\"#46039f\"],[0.2222222222222222,\"#7201a8\"],[0.3333333333333333,\"#9c179e\"],[0.4444444444444444,\"#bd3786\"],[0.5555555555555556,\"#d8576b\"],[0.6666666666666666,\"#ed7953\"],[0.7777777777777778,\"#fb9f3a\"],[0.8888888888888888,\"#fdca26\"],[1.0,\"#f0f921\"]]}],\"choropleth\":[{\"type\":\"choropleth\",\"colorbar\":{\"outlinewidth\":0,\"ticks\":\"\"}}],\"histogram2d\":[{\"type\":\"histogram2d\",\"colorbar\":{\"outlinewidth\":0,\"ticks\":\"\"},\"colorscale\":[[0.0,\"#0d0887\"],[0.1111111111111111,\"#46039f\"],[0.2222222222222222,\"#7201a8\"],[0.3333333333333333,\"#9c179e\"],[0.4444444444444444,\"#bd3786\"],[0.5555555555555556,\"#d8576b\"],[0.6666666666666666,\"#ed7953\"],[0.7777777777777778,\"#fb9f3a\"],[0.8888888888888888,\"#fdca26\"],[1.0,\"#f0f921\"]]}],\"heatmap\":[{\"type\":\"heatmap\",\"colorbar\":{\"outlinewidth\":0,\"ticks\":\"\"},\"colorscale\":[[0.0,\"#0d0887\"],[0.1111111111111111,\"#46039f\"],[0.2222222222222222,\"#7201a8\"],[0.3333333333333333,\"#9c179e\"],[0.4444444444444444,\"#bd3786\"],[0.5555555555555556,\"#d8576b\"],[0.6666666666666666,\"#ed7953\"],[0.7777777777777778,\"#fb9f3a\"],[0.8888888888888888,\"#fdca26\"],[1.0,\"#f0f921\"]]}],\"heatmapgl\":[{\"type\":\"heatmapgl\",\"colorbar\":{\"outlinewidth\":0,\"ticks\":\"\"},\"colorscale\":[[0.0,\"#0d0887\"],[0.1111111111111111,\"#46039f\"],[0.2222222222222222,\"#7201a8\"],[0.3333333333333333,\"#9c179e\"],[0.4444444444444444,\"#bd3786\"],[0.5555555555555556,\"#d8576b\"],[0.6666666666666666,\"#ed7953\"],[0.7777777777777778,\"#fb9f3a\"],[0.8888888888888888,\"#fdca26\"],[1.0,\"#f0f921\"]]}],\"contourcarpet\":[{\"type\":\"contourcarpet\",\"colorbar\":{\"outlinewidth\":0,\"ticks\":\"\"}}],\"contour\":[{\"type\":\"contour\",\"colorbar\":{\"outlinewidth\":0,\"ticks\":\"\"},\"colorscale\":[[0.0,\"#0d0887\"],[0.1111111111111111,\"#46039f\"],[0.2222222222222222,\"#7201a8\"],[0.3333333333333333,\"#9c179e\"],[0.4444444444444444,\"#bd3786\"],[0.5555555555555556,\"#d8576b\"],[0.6666666666666666,\"#ed7953\"],[0.7777777777777778,\"#fb9f3a\"],[0.8888888888888888,\"#fdca26\"],[1.0,\"#f0f921\"]]}],\"surface\":[{\"type\":\"surface\",\"colorbar\":{\"outlinewidth\":0,\"ticks\":\"\"},\"colorscale\":[[0.0,\"#0d0887\"],[0.1111111111111111,\"#46039f\"],[0.2222222222222222,\"#7201a8\"],[0.3333333333333333,\"#9c179e\"],[0.4444444444444444,\"#bd3786\"],[0.5555555555555556,\"#d8576b\"],[0.6666666666666666,\"#ed7953\"],[0.7777777777777778,\"#fb9f3a\"],[0.8888888888888888,\"#fdca26\"],[1.0,\"#f0f921\"]]}],\"mesh3d\":[{\"type\":\"mesh3d\",\"colorbar\":{\"outlinewidth\":0,\"ticks\":\"\"}}],\"scatter\":[{\"fillpattern\":{\"fillmode\":\"overlay\",\"size\":10,\"solidity\":0.2},\"type\":\"scatter\"}],\"parcoords\":[{\"type\":\"parcoords\",\"line\":{\"colorbar\":{\"outlinewidth\":0,\"ticks\":\"\"}}}],\"scatterpolargl\":[{\"type\":\"scatterpolargl\",\"marker\":{\"colorbar\":{\"outlinewidth\":0,\"ticks\":\"\"}}}],\"bar\":[{\"error_x\":{\"color\":\"#2a3f5f\"},\"error_y\":{\"color\":\"#2a3f5f\"},\"marker\":{\"line\":{\"color\":\"#E5ECF6\",\"width\":0.5},\"pattern\":{\"fillmode\":\"overlay\",\"size\":10,\"solidity\":0.2}},\"type\":\"bar\"}],\"scattergeo\":[{\"type\":\"scattergeo\",\"marker\":{\"colorbar\":{\"outlinewidth\":0,\"ticks\":\"\"}}}],\"scatterpolar\":[{\"type\":\"scatterpolar\",\"marker\":{\"colorbar\":{\"outlinewidth\":0,\"ticks\":\"\"}}}],\"histogram\":[{\"marker\":{\"pattern\":{\"fillmode\":\"overlay\",\"size\":10,\"solidity\":0.2}},\"type\":\"histogram\"}],\"scattergl\":[{\"type\":\"scattergl\",\"marker\":{\"colorbar\":{\"outlinewidth\":0,\"ticks\":\"\"}}}],\"scatter3d\":[{\"type\":\"scatter3d\",\"line\":{\"colorbar\":{\"outlinewidth\":0,\"ticks\":\"\"}},\"marker\":{\"colorbar\":{\"outlinewidth\":0,\"ticks\":\"\"}}}],\"scattermapbox\":[{\"type\":\"scattermapbox\",\"marker\":{\"colorbar\":{\"outlinewidth\":0,\"ticks\":\"\"}}}],\"scatterternary\":[{\"type\":\"scatterternary\",\"marker\":{\"colorbar\":{\"outlinewidth\":0,\"ticks\":\"\"}}}],\"scattercarpet\":[{\"type\":\"scattercarpet\",\"marker\":{\"colorbar\":{\"outlinewidth\":0,\"ticks\":\"\"}}}],\"carpet\":[{\"aaxis\":{\"endlinecolor\":\"#2a3f5f\",\"gridcolor\":\"white\",\"linecolor\":\"white\",\"minorgridcolor\":\"white\",\"startlinecolor\":\"#2a3f5f\"},\"baxis\":{\"endlinecolor\":\"#2a3f5f\",\"gridcolor\":\"white\",\"linecolor\":\"white\",\"minorgridcolor\":\"white\",\"startlinecolor\":\"#2a3f5f\"},\"type\":\"carpet\"}],\"table\":[{\"cells\":{\"fill\":{\"color\":\"#EBF0F8\"},\"line\":{\"color\":\"white\"}},\"header\":{\"fill\":{\"color\":\"#C8D4E3\"},\"line\":{\"color\":\"white\"}},\"type\":\"table\"}],\"barpolar\":[{\"marker\":{\"line\":{\"color\":\"#E5ECF6\",\"width\":0.5},\"pattern\":{\"fillmode\":\"overlay\",\"size\":10,\"solidity\":0.2}},\"type\":\"barpolar\"}],\"pie\":[{\"automargin\":true,\"type\":\"pie\"}]},\"layout\":{\"autotypenumbers\":\"strict\",\"colorway\":[\"#636efa\",\"#EF553B\",\"#00cc96\",\"#ab63fa\",\"#FFA15A\",\"#19d3f3\",\"#FF6692\",\"#B6E880\",\"#FF97FF\",\"#FECB52\"],\"font\":{\"color\":\"#2a3f5f\"},\"hovermode\":\"closest\",\"hoverlabel\":{\"align\":\"left\"},\"paper_bgcolor\":\"white\",\"plot_bgcolor\":\"#E5ECF6\",\"polar\":{\"bgcolor\":\"#E5ECF6\",\"angularaxis\":{\"gridcolor\":\"white\",\"linecolor\":\"white\",\"ticks\":\"\"},\"radialaxis\":{\"gridcolor\":\"white\",\"linecolor\":\"white\",\"ticks\":\"\"}},\"ternary\":{\"bgcolor\":\"#E5ECF6\",\"aaxis\":{\"gridcolor\":\"white\",\"linecolor\":\"white\",\"ticks\":\"\"},\"baxis\":{\"gridcolor\":\"white\",\"linecolor\":\"white\",\"ticks\":\"\"},\"caxis\":{\"gridcolor\":\"white\",\"linecolor\":\"white\",\"ticks\":\"\"}},\"coloraxis\":{\"colorbar\":{\"outlinewidth\":0,\"ticks\":\"\"}},\"colorscale\":{\"sequential\":[[0.0,\"#0d0887\"],[0.1111111111111111,\"#46039f\"],[0.2222222222222222,\"#7201a8\"],[0.3333333333333333,\"#9c179e\"],[0.4444444444444444,\"#bd3786\"],[0.5555555555555556,\"#d8576b\"],[0.6666666666666666,\"#ed7953\"],[0.7777777777777778,\"#fb9f3a\"],[0.8888888888888888,\"#fdca26\"],[1.0,\"#f0f921\"]],\"sequentialminus\":[[0.0,\"#0d0887\"],[0.1111111111111111,\"#46039f\"],[0.2222222222222222,\"#7201a8\"],[0.3333333333333333,\"#9c179e\"],[0.4444444444444444,\"#bd3786\"],[0.5555555555555556,\"#d8576b\"],[0.6666666666666666,\"#ed7953\"],[0.7777777777777778,\"#fb9f3a\"],[0.8888888888888888,\"#fdca26\"],[1.0,\"#f0f921\"]],\"diverging\":[[0,\"#8e0152\"],[0.1,\"#c51b7d\"],[0.2,\"#de77ae\"],[0.3,\"#f1b6da\"],[0.4,\"#fde0ef\"],[0.5,\"#f7f7f7\"],[0.6,\"#e6f5d0\"],[0.7,\"#b8e186\"],[0.8,\"#7fbc41\"],[0.9,\"#4d9221\"],[1,\"#276419\"]]},\"xaxis\":{\"gridcolor\":\"white\",\"linecolor\":\"white\",\"ticks\":\"\",\"title\":{\"standoff\":15},\"zerolinecolor\":\"white\",\"automargin\":true,\"zerolinewidth\":2},\"yaxis\":{\"gridcolor\":\"white\",\"linecolor\":\"white\",\"ticks\":\"\",\"title\":{\"standoff\":15},\"zerolinecolor\":\"white\",\"automargin\":true,\"zerolinewidth\":2},\"scene\":{\"xaxis\":{\"backgroundcolor\":\"#E5ECF6\",\"gridcolor\":\"white\",\"linecolor\":\"white\",\"showbackground\":true,\"ticks\":\"\",\"zerolinecolor\":\"white\",\"gridwidth\":2},\"yaxis\":{\"backgroundcolor\":\"#E5ECF6\",\"gridcolor\":\"white\",\"linecolor\":\"white\",\"showbackground\":true,\"ticks\":\"\",\"zerolinecolor\":\"white\",\"gridwidth\":2},\"zaxis\":{\"backgroundcolor\":\"#E5ECF6\",\"gridcolor\":\"white\",\"linecolor\":\"white\",\"showbackground\":true,\"ticks\":\"\",\"zerolinecolor\":\"white\",\"gridwidth\":2}},\"shapedefaults\":{\"line\":{\"color\":\"#2a3f5f\"}},\"annotationdefaults\":{\"arrowcolor\":\"#2a3f5f\",\"arrowhead\":0,\"arrowwidth\":1},\"geo\":{\"bgcolor\":\"white\",\"landcolor\":\"#E5ECF6\",\"subunitcolor\":\"white\",\"showland\":true,\"showlakes\":true,\"lakecolor\":\"white\"},\"title\":{\"x\":0.05},\"mapbox\":{\"style\":\"light\"}}},\"xaxis\":{\"anchor\":\"y\",\"domain\":[0.0,1.0],\"title\":{\"text\":\"error\"}},\"yaxis\":{\"anchor\":\"x\",\"domain\":[0.0,1.0],\"title\":{\"text\":\"count\"}},\"legend\":{\"tracegroupgap\":0},\"margin\":{\"t\":60},\"barmode\":\"relative\",\"width\":800},                        {\"responsive\": true}                    ).then(function(){\n",
              "                            \n",
              "var gd = document.getElementById('465c7a3c-79af-41a7-a6ff-01de10b298d5');\n",
              "var x = new MutationObserver(function (mutations, observer) {{\n",
              "        var display = window.getComputedStyle(gd).display;\n",
              "        if (!display || display === 'none') {{\n",
              "            console.log([gd, 'removed!']);\n",
              "            Plotly.purge(gd);\n",
              "            observer.disconnect();\n",
              "        }}\n",
              "}});\n",
              "\n",
              "// Listen for the removal of the full notebook cells\n",
              "var notebookContainer = gd.closest('#notebook-container');\n",
              "if (notebookContainer) {{\n",
              "    x.observe(notebookContainer, {childList: true});\n",
              "}}\n",
              "\n",
              "// Listen for the clearing of the current output cell\n",
              "var outputEl = gd.closest('.output');\n",
              "if (outputEl) {{\n",
              "    x.observe(outputEl, {childList: true});\n",
              "}}\n",
              "\n",
              "                        })                };                            </script>        </div>\n",
              "</body>\n",
              "</html>"
            ]
          },
          "metadata": {}
        }
      ]
    },
    {
      "cell_type": "markdown",
      "source": [
        "![image.png](data:image/png;base64,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)"
      ],
      "metadata": {
        "id": "Jsg4-qxiFOFb"
      }
    },
    {
      "cell_type": "code",
      "source": [
        "def mean_absolute_error(y_true, y_pred):\n",
        "    return abs(y_true - y_pred).sum() / len(y_true)\n",
        "\n",
        "mean_absolute_error(y_true, y_pred)"
      ],
      "metadata": {
        "colab": {
          "base_uri": "https://localhost:8080/"
        },
        "id": "NTrVbyotFED1",
        "outputId": "b83c2741-61a8-42ba-97be-1d9510081309"
      },
      "execution_count": 9,
      "outputs": [
        {
          "output_type": "execute_result",
          "data": {
            "text/plain": [
              "7.910826063285162"
            ]
          },
          "metadata": {},
          "execution_count": 9
        }
      ]
    },
    {
      "cell_type": "code",
      "source": [
        "\n",
        "from sklearn.metrics import mean_absolute_error\n",
        "\n",
        "mean_absolute_error(y_true, y_pred)"
      ],
      "metadata": {
        "colab": {
          "base_uri": "https://localhost:8080/"
        },
        "id": "6saylladFP5d",
        "outputId": "19a68c5a-77e0-4f2d-a416-06b27755e710"
      },
      "execution_count": 10,
      "outputs": [
        {
          "output_type": "execute_result",
          "data": {
            "text/plain": [
              "7.910826063285162"
            ]
          },
          "metadata": {},
          "execution_count": 10
        }
      ]
    },
    {
      "cell_type": "markdown",
      "source": [
        "![image.png](data:image/png;base64,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)"
      ],
      "metadata": {
        "id": "wdMkv4YVFYBg"
      }
    },
    {
      "cell_type": "code",
      "source": [
        "\n",
        "def mean_squared_error(y_true, y_pred):\n",
        "    return ((y_true - y_pred) ** 2).sum() / len(y_true)\n",
        "\n",
        "mean_squared_error(y_true, y_pred)"
      ],
      "metadata": {
        "colab": {
          "base_uri": "https://localhost:8080/"
        },
        "id": "_pmvoIpxFSG0",
        "outputId": "3d5c2ff4-273c-4555-ad8a-42d44f428474"
      },
      "execution_count": 11,
      "outputs": [
        {
          "output_type": "execute_result",
          "data": {
            "text/plain": [
              "100.09165607706812"
            ]
          },
          "metadata": {},
          "execution_count": 11
        }
      ]
    },
    {
      "cell_type": "code",
      "source": [
        "\n",
        "from sklearn.metrics import mean_squared_error\n",
        "\n",
        "mean_squared_error(y_true, y_pred)"
      ],
      "metadata": {
        "colab": {
          "base_uri": "https://localhost:8080/"
        },
        "id": "YYYns-R8FaU9",
        "outputId": "9fb4e06e-0341-48c0-f3a6-266970d2bc08"
      },
      "execution_count": 12,
      "outputs": [
        {
          "output_type": "execute_result",
          "data": {
            "text/plain": [
              "100.09165607706812"
            ]
          },
          "metadata": {},
          "execution_count": 12
        }
      ]
    },
    {
      "cell_type": "markdown",
      "source": [
        "![image.png](data:image/png;base64,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)"
      ],
      "metadata": {
        "id": "d5CpWa2qFd_W"
      }
    },
    {
      "cell_type": "code",
      "source": [
        "\n",
        "def root_mean_squared_error(y_true, y_pred):\n",
        "    return np.sqrt(((y_true - y_pred) ** 2).sum() / len(y_true))\n",
        "\n",
        "root_mean_squared_error(y_true, y_pred)"
      ],
      "metadata": {
        "colab": {
          "base_uri": "https://localhost:8080/"
        },
        "id": "ilCw78mnFbn1",
        "outputId": "5ae40ab0-f91c-43c1-a57b-805d8cee0112"
      },
      "execution_count": 13,
      "outputs": [
        {
          "output_type": "execute_result",
          "data": {
            "text/plain": [
              "10.004581754229815"
            ]
          },
          "metadata": {},
          "execution_count": 13
        }
      ]
    },
    {
      "cell_type": "code",
      "source": [
        "\n",
        "np.sqrt(mean_squared_error(y_true, y_pred))"
      ],
      "metadata": {
        "colab": {
          "base_uri": "https://localhost:8080/"
        },
        "id": "mI962yK3Fgwl",
        "outputId": "4bd4a7bc-0b00-4df9-bc17-00a8109af64f"
      },
      "execution_count": 14,
      "outputs": [
        {
          "output_type": "execute_result",
          "data": {
            "text/plain": [
              "10.004581754229815"
            ]
          },
          "metadata": {},
          "execution_count": 14
        }
      ]
    },
    {
      "cell_type": "markdown",
      "source": [
        "![image.png](data:image/png;base64,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)"
      ],
      "metadata": {
        "id": "Krhxa0G7Fnw2"
      }
    },
    {
      "cell_type": "code",
      "source": [
        "\n",
        "def max_error(y_true, y_pred):\n",
        "    return abs(y_true - y_pred).max()\n",
        "\n",
        "max_error(y_true, y_pred)"
      ],
      "metadata": {
        "colab": {
          "base_uri": "https://localhost:8080/"
        },
        "id": "FGCWZWgDFid1",
        "outputId": "afd5153a-cee9-4f6e-e016-95cf52202cba"
      },
      "execution_count": 16,
      "outputs": [
        {
          "output_type": "execute_result",
          "data": {
            "text/plain": [
              "31.931075678448607"
            ]
          },
          "metadata": {},
          "execution_count": 16
        }
      ]
    },
    {
      "cell_type": "code",
      "source": [
        "\n",
        "from sklearn.metrics import max_error\n",
        "\n",
        "max_error(y_true, y_pred)"
      ],
      "metadata": {
        "colab": {
          "base_uri": "https://localhost:8080/"
        },
        "id": "GlhNVXkQFqY9",
        "outputId": "950ce9fe-7ae8-467d-96a2-20b812946fdb"
      },
      "execution_count": 17,
      "outputs": [
        {
          "output_type": "execute_result",
          "data": {
            "text/plain": [
              "31.931075678448607"
            ]
          },
          "metadata": {},
          "execution_count": 17
        }
      ]
    },
    {
      "cell_type": "markdown",
      "source": [
        "![image.png](data:image/png;base64,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)"
      ],
      "metadata": {
        "id": "MScWrf32Fy2v"
      }
    },
    {
      "cell_type": "code",
      "source": [
        "\n",
        "from sklearn.metrics import r2_score\n",
        "\n",
        "r2_score(y_true, y_pred)"
      ],
      "metadata": {
        "colab": {
          "base_uri": "https://localhost:8080/"
        },
        "id": "VyohQrEBFwoN",
        "outputId": "1509deba-07c0-4fcb-94c2-8db7bfaeda60"
      },
      "execution_count": 18,
      "outputs": [
        {
          "output_type": "execute_result",
          "data": {
            "text/plain": [
              "0.7408064339123333"
            ]
          },
          "metadata": {},
          "execution_count": 18
        }
      ]
    },
    {
      "cell_type": "code",
      "source": [
        "\n",
        "def r2_score(y_true, y_pred):\n",
        "    numerator = ((y_true - y_pred) ** 2).sum()\n",
        "    denominator = ((y_true - y_true.mean()) ** 2).sum()\n",
        "    try:\n",
        "        r2 = 1 - numerator / denominator\n",
        "    except ZeroDivisionError:\n",
        "        print('Dzielenie przez zero')\n",
        "    return r2\n",
        "r2_score(y_true, y_pred)"
      ],
      "metadata": {
        "colab": {
          "base_uri": "https://localhost:8080/"
        },
        "id": "pU_r_AfBF0Q9",
        "outputId": "66d82a87-f0da-40aa-8fd8-c065b76c18ef"
      },
      "execution_count": 19,
      "outputs": [
        {
          "output_type": "execute_result",
          "data": {
            "text/plain": [
              "0.7408064339123333"
            ]
          },
          "metadata": {},
          "execution_count": 19
        }
      ]
    },
    {
      "cell_type": "code",
      "source": [],
      "metadata": {
        "id": "_bQ-d4vQGFwN"
      },
      "execution_count": null,
      "outputs": []
    }
  ]
}